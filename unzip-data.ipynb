{
 "cells": [
  {
   "cell_type": "code",
   "execution_count": 1,
   "metadata": {},
   "outputs": [],
   "source": [
    "DATA_PATH = './data/car-hacking/DoS_dataset.csv'\n",
    "# CONSTANT\n",
    "# CURRENT PATH : ./notebooks\n",
    "DATA_PROPERTY = ['Timestamp', 'canID', 'DLC', \n",
    "                           'Data0', 'Data1', 'Data2', \n",
    "                           'Data3', 'Data4', 'Data5', \n",
    "                           'Data6', 'Data7', 'Flag']\n",
    "ATTACK_TYPES = ['DoS', 'Fuzzy', 'gear', 'RPM']\n",
    "\n",
    "DATA_META = { 'Timestamp': 'float64', 'canID': 'object', 'DLC': 'int64', 'Data0': 'object', 'Data1': 'object', 'Data2': 'object', 'Data3': 'object', 'Data4': 'int64', 'Data5': 'object', 'Data6': 'object', 'Data7': 'object', 'Flag': 'object'}\n"
   ]
  },
  {
   "cell_type": "code",
   "execution_count": 2,
   "metadata": {},
   "outputs": [],
   "source": [
    "import pandas as pd"
   ]
  },
  {
   "cell_type": "code",
   "execution_count": 3,
   "metadata": {},
   "outputs": [],
   "source": [
    "raw_df = pd.read_csv(DATA_PATH, header=None, names=DATA_PROPERTY,dtype={'Data4': 'object'})"
   ]
  },
  {
   "cell_type": "code",
   "execution_count": 4,
   "metadata": {},
   "outputs": [
    {
     "data": {
      "text/html": [
       "<div>\n",
       "<style scoped>\n",
       "    .dataframe tbody tr th:only-of-type {\n",
       "        vertical-align: middle;\n",
       "    }\n",
       "\n",
       "    .dataframe tbody tr th {\n",
       "        vertical-align: top;\n",
       "    }\n",
       "\n",
       "    .dataframe thead th {\n",
       "        text-align: right;\n",
       "    }\n",
       "</style>\n",
       "<table border=\"1\" class=\"dataframe\">\n",
       "  <thead>\n",
       "    <tr style=\"text-align: right;\">\n",
       "      <th></th>\n",
       "      <th>Timestamp</th>\n",
       "      <th>canID</th>\n",
       "      <th>DLC</th>\n",
       "      <th>Data0</th>\n",
       "      <th>Data1</th>\n",
       "      <th>Data2</th>\n",
       "      <th>Data3</th>\n",
       "      <th>Data4</th>\n",
       "      <th>Data5</th>\n",
       "      <th>Data6</th>\n",
       "      <th>Data7</th>\n",
       "      <th>Flag</th>\n",
       "    </tr>\n",
       "  </thead>\n",
       "  <tbody>\n",
       "    <tr>\n",
       "      <th>0</th>\n",
       "      <td>1.478198e+09</td>\n",
       "      <td>0316</td>\n",
       "      <td>8</td>\n",
       "      <td>05</td>\n",
       "      <td>21</td>\n",
       "      <td>68</td>\n",
       "      <td>09</td>\n",
       "      <td>21</td>\n",
       "      <td>21</td>\n",
       "      <td>00</td>\n",
       "      <td>6f</td>\n",
       "      <td>R</td>\n",
       "    </tr>\n",
       "    <tr>\n",
       "      <th>1</th>\n",
       "      <td>1.478198e+09</td>\n",
       "      <td>018f</td>\n",
       "      <td>8</td>\n",
       "      <td>fe</td>\n",
       "      <td>5b</td>\n",
       "      <td>00</td>\n",
       "      <td>00</td>\n",
       "      <td>00</td>\n",
       "      <td>3c</td>\n",
       "      <td>00</td>\n",
       "      <td>00</td>\n",
       "      <td>R</td>\n",
       "    </tr>\n",
       "    <tr>\n",
       "      <th>2</th>\n",
       "      <td>1.478198e+09</td>\n",
       "      <td>0260</td>\n",
       "      <td>8</td>\n",
       "      <td>19</td>\n",
       "      <td>21</td>\n",
       "      <td>22</td>\n",
       "      <td>30</td>\n",
       "      <td>08</td>\n",
       "      <td>8e</td>\n",
       "      <td>6d</td>\n",
       "      <td>3a</td>\n",
       "      <td>R</td>\n",
       "    </tr>\n",
       "    <tr>\n",
       "      <th>3</th>\n",
       "      <td>1.478198e+09</td>\n",
       "      <td>02a0</td>\n",
       "      <td>8</td>\n",
       "      <td>64</td>\n",
       "      <td>00</td>\n",
       "      <td>9a</td>\n",
       "      <td>1d</td>\n",
       "      <td>97</td>\n",
       "      <td>02</td>\n",
       "      <td>bd</td>\n",
       "      <td>00</td>\n",
       "      <td>R</td>\n",
       "    </tr>\n",
       "    <tr>\n",
       "      <th>4</th>\n",
       "      <td>1.478198e+09</td>\n",
       "      <td>0329</td>\n",
       "      <td>8</td>\n",
       "      <td>40</td>\n",
       "      <td>bb</td>\n",
       "      <td>7f</td>\n",
       "      <td>14</td>\n",
       "      <td>11</td>\n",
       "      <td>20</td>\n",
       "      <td>00</td>\n",
       "      <td>14</td>\n",
       "      <td>R</td>\n",
       "    </tr>\n",
       "  </tbody>\n",
       "</table>\n",
       "</div>"
      ],
      "text/plain": [
       "      Timestamp canID  DLC Data0 Data1 Data2 Data3 Data4 Data5 Data6 Data7  \\\n",
       "0  1.478198e+09  0316    8    05    21    68    09    21    21    00    6f   \n",
       "1  1.478198e+09  018f    8    fe    5b    00    00    00    3c    00    00   \n",
       "2  1.478198e+09  0260    8    19    21    22    30    08    8e    6d    3a   \n",
       "3  1.478198e+09  02a0    8    64    00    9a    1d    97    02    bd    00   \n",
       "4  1.478198e+09  0329    8    40    bb    7f    14    11    20    00    14   \n",
       "\n",
       "  Flag  \n",
       "0    R  \n",
       "1    R  \n",
       "2    R  \n",
       "3    R  \n",
       "4    R  "
      ]
     },
     "execution_count": 4,
     "metadata": {},
     "output_type": "execute_result"
    }
   ],
   "source": [
    "raw_df.head()"
   ]
  },
  {
   "cell_type": "code",
   "execution_count": 5,
   "metadata": {},
   "outputs": [],
   "source": [
    "def hex_to_int(hex_value):\n",
    "    return int(hex_value, base=16)\n",
    "\n",
    "def hex_string_to_array(hex_string):\n",
    "    return list(map(hex_to_int, hex_string))"
   ]
  },
  {
   "cell_type": "code",
   "execution_count": 26,
   "metadata": {},
   "outputs": [],
   "source": [
    "def split_into_list(string, type='cid'):\n",
    "    # print(payload)\n",
    "    res = []\n",
    "    if type == 'payload':\n",
    "        for i in range(7):\n",
    "            res.append(string[:2])\n",
    "            string = string[2:]\n",
    "        res.append(string[-2:])\n",
    "    else:\n",
    "        hex_cid = '0' + hex(int(string, 16))[2:] if len(hex(int(string, 16))[2:]) == 3 else '00' + hex(int(string, 16))[2:] if len(hex(int(string, 16))[2:]) == 2 else '000' + hex(int(string, 16))[2:]\n",
    "        for i in range(3):\n",
    "            res.append(hex_cid[:1])\n",
    "            hex_cid = hex_cid[1:]\n",
    "        res.append(hex_cid[-1:])\n",
    "    return hex_string_to_array(res)\n"
   ]
  },
  {
   "cell_type": "code",
   "execution_count": 7,
   "metadata": {},
   "outputs": [],
   "source": [
    "#this function to convert CAN_ID in hex to BIT\n",
    "def convert_canid_bits(cid):\n",
    "    try:\n",
    "        #s = bin(int(str(cid), 16))[2:].zfill(29)\n",
    "        #bits = ''.join(list(map(int, list(s))))\n",
    "        return int(cid, 16)\n",
    "    except:\n",
    "        return None"
   ]
  },
  {
   "cell_type": "code",
   "execution_count": 8,
   "metadata": {},
   "outputs": [],
   "source": [
    "def fill_flag(sample):\n",
    "    if not isinstance(sample['Flag'], str):\n",
    "        col = 'Data' + str(sample['DLC'])\n",
    "        sample['Flag'], sample[col] = sample[col], sample['Flag']\n",
    "    return sample"
   ]
  },
  {
   "cell_type": "code",
   "execution_count": 9,
   "metadata": {},
   "outputs": [],
   "source": [
    "from numpy.lib.stride_tricks import as_strided\n",
    "\n",
    "def sliding_window(data, win=29, s=1):\n",
    "    itemsize  = data.values.itemsize\n",
    "    N = len(data)\n",
    "    sliding_data = as_strided(data, shape=((N - win) // s + 1, win), strides=(itemsize*s, itemsize))\n",
    "    return sliding_data"
   ]
  },
  {
   "cell_type": "code",
   "execution_count": 10,
   "metadata": {},
   "outputs": [],
   "source": [
    "import torch.nn.functional as F\n",
    "from torch.utils.data import Dataset\n",
    "from copy import copy, deepcopy\n",
    "import math\n",
    "import numpy as np"
   ]
  },
  {
   "cell_type": "code",
   "execution_count": 11,
   "metadata": {},
   "outputs": [],
   "source": [
    "#CONSTANT\n",
    "GRAN = 1e-7\n",
    "LOG_E = 2\n",
    "PAD_SIZE = 15"
   ]
  },
  {
   "cell_type": "code",
   "execution_count": 29,
   "metadata": {},
   "outputs": [],
   "source": [
    "#turn raw data into more understandable format\n",
    "def process_data(df):\n",
    "    print(\"Starting processing data\")\n",
    "    df = df.apply(fill_flag, axis=1)\n",
    "    df.sort_values(['Timestamp', \"canID\", \"Flag\"], ascending=True)\n",
    "    df[\"canBits\"] = df.canID.apply(split_into_list)\n",
    "    df['Flag'] = df['Flag'].apply(lambda x: True if x == 'T' else False)\n",
    "\n",
    "    # data\n",
    "    num_data_bytes = 8\n",
    "    for x in range(num_data_bytes):\n",
    "        df['Data'+str(x)] = df['Data'+str(x)].map(lambda x: int(x, 16), na_action='ignore')\n",
    "\n",
    "    \n",
    "    data_cols = ['Data{}'.format(x) for x in range(num_data_bytes)]\n",
    "    df = df.fillna(0)\n",
    "    df[data_cols] = df[data_cols].astype(int) \n",
    "    df['Data'] = df[data_cols].values.tolist()\n",
    "        \n",
    "    print('Processing: DONE', df.head(1))\n",
    "\n",
    "    print('Aggregate data -----------------')\n",
    "    WINDOW_SIZE = 16\n",
    "    STRIDE=16\n",
    "    output_shape = ((len(df) - WINDOW_SIZE) // STRIDE + 1, WINDOW_SIZE)\n",
    "    timestamp = sliding_window(df.Timestamp, win=WINDOW_SIZE, s=STRIDE)\n",
    "    canid = sliding_window(df.canBits, win=WINDOW_SIZE, s=STRIDE)\n",
    "    data = sliding_window(df.Data, win=WINDOW_SIZE, s=STRIDE)\n",
    "    label = as_strided(df.Flag, output_shape, (1*WINDOW_SIZE, 1))\n",
    "\n",
    "    for i in range(len(timestamp)):\n",
    "        ts = timestamp[i]\n",
    "        \n",
    "        len_timestamp = len(ts)\n",
    "\n",
    "        for i in range(len_timestamp):\n",
    "            value = round(math.log(round(ts[i] / GRAN) + 1, LOG_E))\n",
    "            ts[i] = value\n",
    "        for j in range(PAD_SIZE - len_timestamp):\n",
    "            timestamp = np.append(timestamp, timestamp[len_timestamp - 1])\n",
    "    \n",
    "    for i in range(len(data)):\n",
    "        ts = timestamp[i]\n",
    "        len_data = len(data[i])\n",
    "        cid = canid[i]\n",
    "        d = data[i]\n",
    "\n",
    "        for j in range(len_data):\n",
    "            data[i][j] = np.concatenate(([ts[j]],cid[j],d[j],[0,0,0]))\n",
    "    \n",
    "    df = pd.DataFrame({\n",
    "        # 'timestamp': pd.Series(timestamp.tolist()), \n",
    "        # 'header': pd.Series(canid.tolist()), \n",
    "        # 'payload': pd.Series(data.tolist()),\n",
    "        'data': pd.Series(data.tolist()),\n",
    "        'label': pd.Series(label.tolist())\n",
    "    }, index= range(len(canid)))\n",
    "\n",
    "    print(data.shape)\n",
    "\n",
    "    df['label'] = df['label'].apply(lambda x: 1 if any(x) else 0)\n",
    "    \n",
    "    print(\"Aggregating data: Done\")\n",
    "    print('#Normal: ', df[df['label'] == 0].shape[0])\n",
    "    print('#Attack: ', df[df['label'] != 0].shape[0])\n",
    "\n",
    "    return df[['data', 'label']].reset_index().drop(['index'], axis=1)"
   ]
  },
  {
   "cell_type": "code",
   "execution_count": 30,
   "metadata": {},
   "outputs": [
    {
     "name": "stdout",
     "output_type": "stream",
     "text": [
      "Starting processing data\n",
      "Processing: DONE       Timestamp canID  DLC  Data0  Data1  Data2  Data3  Data4  Data5  Data6  \\\n",
      "0  1.478198e+09  0316    8      5     33    104      9     33     33      0   \n",
      "\n",
      "   Data7   Flag       canBits                             Data  \n",
      "0    111  False  [0, 3, 1, 6]  [5, 33, 104, 9, 33, 33, 0, 111]  \n",
      "Aggregate data -----------------\n",
      "(125, 16)\n",
      "Aggregating data: Done\n",
      "#Normal:  92\n",
      "#Attack:  33\n"
     ]
    }
   ],
   "source": [
    "df = process_data(raw_df.head(2000))"
   ]
  },
  {
   "cell_type": "code",
   "execution_count": 35,
   "metadata": {},
   "outputs": [
    {
     "data": {
      "text/plain": [
       "16"
      ]
     },
     "execution_count": 35,
     "metadata": {},
     "output_type": "execute_result"
    }
   ],
   "source": [
    "len(df.head(1)['data'][0])"
   ]
  },
  {
   "cell_type": "code",
   "execution_count": 36,
   "metadata": {},
   "outputs": [],
   "source": [
    "from sklearn.model_selection import train_test_split\n",
    "\n",
    "train, test = train_test_split(df.head(100), test_size=0.2)"
   ]
  },
  {
   "cell_type": "code",
   "execution_count": 37,
   "metadata": {},
   "outputs": [
    {
     "data": {
      "text/plain": [
       "69    0\n",
       "85    0\n",
       "61    0\n",
       "38    0\n",
       "78    0\n",
       "     ..\n",
       "72    0\n",
       "21    0\n",
       "14    0\n",
       "8     0\n",
       "37    0\n",
       "Name: label, Length: 80, dtype: int64"
      ]
     },
     "execution_count": 37,
     "metadata": {},
     "output_type": "execute_result"
    }
   ],
   "source": [
    "y_train = train['label']\n",
    "y_train"
   ]
  },
  {
   "cell_type": "code",
   "execution_count": 38,
   "metadata": {},
   "outputs": [
    {
     "data": {
      "text/html": [
       "<div>\n",
       "<style scoped>\n",
       "    .dataframe tbody tr th:only-of-type {\n",
       "        vertical-align: middle;\n",
       "    }\n",
       "\n",
       "    .dataframe tbody tr th {\n",
       "        vertical-align: top;\n",
       "    }\n",
       "\n",
       "    .dataframe thead th {\n",
       "        text-align: right;\n",
       "    }\n",
       "</style>\n",
       "<table border=\"1\" class=\"dataframe\">\n",
       "  <thead>\n",
       "    <tr style=\"text-align: right;\">\n",
       "      <th></th>\n",
       "      <th>data</th>\n",
       "      <th>label</th>\n",
       "    </tr>\n",
       "  </thead>\n",
       "  <tbody>\n",
       "    <tr>\n",
       "      <th>69</th>\n",
       "      <td>[[54.0, 0.0, 3.0, 5.0, 0.0, 5.0, 32.0, 196.0, ...</td>\n",
       "      <td>0</td>\n",
       "    </tr>\n",
       "    <tr>\n",
       "      <th>85</th>\n",
       "      <td>[[54.0, 0.0, 4.0, 11.0, 1.0, 41.0, 39.0, 39.0,...</td>\n",
       "      <td>0</td>\n",
       "    </tr>\n",
       "    <tr>\n",
       "      <th>61</th>\n",
       "      <td>[[54.0, 0.0, 0.0, 10.0, 1.0, 128.0, 137.0, 0.0...</td>\n",
       "      <td>0</td>\n",
       "    </tr>\n",
       "    <tr>\n",
       "      <th>38</th>\n",
       "      <td>[[54.0, 0.0, 3.0, 7.0, 0.0, 0.0, 32.0, 0.0, 0....</td>\n",
       "      <td>0</td>\n",
       "    </tr>\n",
       "    <tr>\n",
       "      <th>78</th>\n",
       "      <td>[[54.0, 0.0, 4.0, 3.0, 0.0, 0.0, 0.0, 0.0, 0.0...</td>\n",
       "      <td>0</td>\n",
       "    </tr>\n",
       "  </tbody>\n",
       "</table>\n",
       "</div>"
      ],
      "text/plain": [
       "                                                 data  label\n",
       "69  [[54.0, 0.0, 3.0, 5.0, 0.0, 5.0, 32.0, 196.0, ...      0\n",
       "85  [[54.0, 0.0, 4.0, 11.0, 1.0, 41.0, 39.0, 39.0,...      0\n",
       "61  [[54.0, 0.0, 0.0, 10.0, 1.0, 128.0, 137.0, 0.0...      0\n",
       "38  [[54.0, 0.0, 3.0, 7.0, 0.0, 0.0, 32.0, 0.0, 0....      0\n",
       "78  [[54.0, 0.0, 4.0, 3.0, 0.0, 0.0, 0.0, 0.0, 0.0...      0"
      ]
     },
     "execution_count": 38,
     "metadata": {},
     "output_type": "execute_result"
    }
   ],
   "source": [
    "x_train = train\n",
    "x_train.head()"
   ]
  },
  {
   "cell_type": "code",
   "execution_count": 39,
   "metadata": {},
   "outputs": [
    {
     "data": {
      "text/html": [
       "<div>\n",
       "<style scoped>\n",
       "    .dataframe tbody tr th:only-of-type {\n",
       "        vertical-align: middle;\n",
       "    }\n",
       "\n",
       "    .dataframe tbody tr th {\n",
       "        vertical-align: top;\n",
       "    }\n",
       "\n",
       "    .dataframe thead th {\n",
       "        text-align: right;\n",
       "    }\n",
       "</style>\n",
       "<table border=\"1\" class=\"dataframe\">\n",
       "  <thead>\n",
       "    <tr style=\"text-align: right;\">\n",
       "      <th></th>\n",
       "      <th>data</th>\n",
       "    </tr>\n",
       "  </thead>\n",
       "  <tbody>\n",
       "    <tr>\n",
       "      <th>69</th>\n",
       "      <td>[[54.0, 0.0, 3.0, 5.0, 0.0, 5.0, 32.0, 196.0, ...</td>\n",
       "    </tr>\n",
       "    <tr>\n",
       "      <th>85</th>\n",
       "      <td>[[54.0, 0.0, 4.0, 11.0, 1.0, 41.0, 39.0, 39.0,...</td>\n",
       "    </tr>\n",
       "    <tr>\n",
       "      <th>61</th>\n",
       "      <td>[[54.0, 0.0, 0.0, 10.0, 1.0, 128.0, 137.0, 0.0...</td>\n",
       "    </tr>\n",
       "    <tr>\n",
       "      <th>38</th>\n",
       "      <td>[[54.0, 0.0, 3.0, 7.0, 0.0, 0.0, 32.0, 0.0, 0....</td>\n",
       "    </tr>\n",
       "    <tr>\n",
       "      <th>78</th>\n",
       "      <td>[[54.0, 0.0, 4.0, 3.0, 0.0, 0.0, 0.0, 0.0, 0.0...</td>\n",
       "    </tr>\n",
       "    <tr>\n",
       "      <th>...</th>\n",
       "      <td>...</td>\n",
       "    </tr>\n",
       "    <tr>\n",
       "      <th>72</th>\n",
       "      <td>[[54.0, 0.0, 3.0, 2.0, 9.0, 64.0, 187.0, 127.0...</td>\n",
       "    </tr>\n",
       "    <tr>\n",
       "      <th>21</th>\n",
       "      <td>[[54.0, 0.0, 2.0, 6.0, 0.0, 25.0, 34.0, 34.0, ...</td>\n",
       "    </tr>\n",
       "    <tr>\n",
       "      <th>14</th>\n",
       "      <td>[[54.0, 0.0, 2.0, 10.0, 0.0, 100.0, 0.0, 154.0...</td>\n",
       "    </tr>\n",
       "    <tr>\n",
       "      <th>8</th>\n",
       "      <td>[[54.0, 0.0, 3.0, 1.0, 6.0, 5.0, 34.0, 96.0, 9...</td>\n",
       "    </tr>\n",
       "    <tr>\n",
       "      <th>37</th>\n",
       "      <td>[[54.0, 0.0, 1.0, 8.0, 15.0, 254.0, 91.0, 0.0,...</td>\n",
       "    </tr>\n",
       "  </tbody>\n",
       "</table>\n",
       "<p>80 rows × 1 columns</p>\n",
       "</div>"
      ],
      "text/plain": [
       "                                                 data\n",
       "69  [[54.0, 0.0, 3.0, 5.0, 0.0, 5.0, 32.0, 196.0, ...\n",
       "85  [[54.0, 0.0, 4.0, 11.0, 1.0, 41.0, 39.0, 39.0,...\n",
       "61  [[54.0, 0.0, 0.0, 10.0, 1.0, 128.0, 137.0, 0.0...\n",
       "38  [[54.0, 0.0, 3.0, 7.0, 0.0, 0.0, 32.0, 0.0, 0....\n",
       "78  [[54.0, 0.0, 4.0, 3.0, 0.0, 0.0, 0.0, 0.0, 0.0...\n",
       "..                                                ...\n",
       "72  [[54.0, 0.0, 3.0, 2.0, 9.0, 64.0, 187.0, 127.0...\n",
       "21  [[54.0, 0.0, 2.0, 6.0, 0.0, 25.0, 34.0, 34.0, ...\n",
       "14  [[54.0, 0.0, 2.0, 10.0, 0.0, 100.0, 0.0, 154.0...\n",
       "8   [[54.0, 0.0, 3.0, 1.0, 6.0, 5.0, 34.0, 96.0, 9...\n",
       "37  [[54.0, 0.0, 1.0, 8.0, 15.0, 254.0, 91.0, 0.0,...\n",
       "\n",
       "[80 rows x 1 columns]"
      ]
     },
     "execution_count": 39,
     "metadata": {},
     "output_type": "execute_result"
    }
   ],
   "source": [
    "x_train.drop(\"label\", axis=1)"
   ]
  },
  {
   "cell_type": "code",
   "execution_count": 40,
   "metadata": {},
   "outputs": [],
   "source": [
    "x_train.to_csv(\"./data/car-hacking/processed/x_train.csv\")"
   ]
  },
  {
   "cell_type": "code",
   "execution_count": 41,
   "metadata": {},
   "outputs": [],
   "source": [
    "y_train.to_csv(\"./data/car-hacking/processed/y_train.csv\")"
   ]
  },
  {
   "cell_type": "code",
   "execution_count": 42,
   "metadata": {},
   "outputs": [],
   "source": [
    "x_test = test\n",
    "y_test = test[\"label\"]\n",
    "x_test.drop(\"label\", axis=1)\n",
    "x_test.to_csv(\"./data/car-hacking/processed/x_test.csv\")\n",
    "y_test.to_csv(\"./data/car-hacking/processed/y_test.csv\")"
   ]
  },
  {
   "cell_type": "code",
   "execution_count": 43,
   "metadata": {},
   "outputs": [],
   "source": [
    "from torch import nn\n",
    "from torch.nn.utils.parametrizations import spectral_norm"
   ]
  },
  {
   "cell_type": "code",
   "execution_count": 44,
   "metadata": {},
   "outputs": [],
   "source": [
    "main_model = nn.Sequential(\n",
    "    # 3 * 32 * 32\n",
    "    spectral_norm(nn.Conv2d(1, 16, 4, 2, 1)),\n",
    "    nn.LeakyReLU(0.2),\n",
    "    # 16 * 16 * 16\n",
    "    #spectral_norm(nn.Conv2d(16, 32, 4, 2, 1)),\n",
    "    #nn.LeakyReLU(0.2),\n",
    "    # 32 * 8 * 8r\n",
    "    spectral_norm(nn.Conv2d(16, 32, 4, 2, 1)),\n",
    "    nn.LeakyReLU(0.2),\n",
    "    # 64 * 4 * 4\n",
    "    spectral_norm(nn.Conv2d(32, 64, 4, 1, 0)),\n",
    "    # 128 * 1 * 1\n",
    "    nn.LeakyReLU(0.2),\n",
    "    nn.Flatten(),\n",
    "    nn.Linear(64, 2),\n",
    "    nn.Softmax(dim=1),\n",
    ")"
   ]
  },
  {
   "cell_type": "code",
   "execution_count": 45,
   "metadata": {},
   "outputs": [],
   "source": [
    "import torch\n",
    "from torchsummary import summary"
   ]
  },
  {
   "cell_type": "code",
   "execution_count": 46,
   "metadata": {},
   "outputs": [],
   "source": [
    "if torch.cuda.is_available():\n",
    "    main_model.cuda()"
   ]
  },
  {
   "cell_type": "code",
   "execution_count": 47,
   "metadata": {},
   "outputs": [],
   "source": [
    "device = torch.device(\"cuda:0\" if torch.cuda.is_available() else \"cpu\")"
   ]
  },
  {
   "cell_type": "code",
   "execution_count": 48,
   "metadata": {},
   "outputs": [
    {
     "name": "stdout",
     "output_type": "stream",
     "text": [
      "----------------------------------------------------------------\n",
      "        Layer (type)               Output Shape         Param #\n",
      "================================================================\n",
      "     _SpectralNorm-1              [-1, 1, 4, 4]               0\n",
      "ParametrizedConv2d-2             [-1, 16, 8, 8]             272\n",
      "     _SpectralNorm-3              [-1, 1, 4, 4]               0\n",
      "     _SpectralNorm-4              [-1, 1, 4, 4]               0\n",
      "     _SpectralNorm-5              [-1, 1, 4, 4]               0\n",
      "     _SpectralNorm-6              [-1, 1, 4, 4]               0\n",
      "         LeakyReLU-7             [-1, 16, 8, 8]               0\n",
      "     _SpectralNorm-8             [-1, 16, 4, 4]               0\n",
      "ParametrizedConv2d-9             [-1, 32, 4, 4]           8,224\n",
      "    _SpectralNorm-10             [-1, 16, 4, 4]               0\n",
      "    _SpectralNorm-11             [-1, 16, 4, 4]               0\n",
      "    _SpectralNorm-12             [-1, 16, 4, 4]               0\n",
      "    _SpectralNorm-13             [-1, 16, 4, 4]               0\n",
      "        LeakyReLU-14             [-1, 32, 4, 4]               0\n",
      "    _SpectralNorm-15             [-1, 32, 4, 4]               0\n",
      "ParametrizedConv2d-16             [-1, 64, 1, 1]          32,832\n",
      "    _SpectralNorm-17             [-1, 32, 4, 4]               0\n",
      "    _SpectralNorm-18             [-1, 32, 4, 4]               0\n",
      "    _SpectralNorm-19             [-1, 32, 4, 4]               0\n",
      "    _SpectralNorm-20             [-1, 32, 4, 4]               0\n",
      "        LeakyReLU-21             [-1, 64, 1, 1]               0\n",
      "          Flatten-22                   [-1, 64]               0\n",
      "           Linear-23                    [-1, 2]             130\n",
      "          Softmax-24                    [-1, 2]               0\n",
      "================================================================\n",
      "Total params: 41,458\n",
      "Trainable params: 41,458\n",
      "Non-trainable params: 0\n",
      "----------------------------------------------------------------\n",
      "Input size (MB): 0.00\n",
      "Forward/backward pass size (MB): 0.05\n",
      "Params size (MB): 0.16\n",
      "Estimated Total Size (MB): 0.21\n",
      "----------------------------------------------------------------\n"
     ]
    }
   ],
   "source": [
    "summary(main_model, input_size=(1,16,16))"
   ]
  },
  {
   "cell_type": "code",
   "execution_count": null,
   "metadata": {},
   "outputs": [],
   "source": []
  }
 ],
 "metadata": {
  "kernelspec": {
   "display_name": "py311",
   "language": "python",
   "name": "python3"
  },
  "language_info": {
   "codemirror_mode": {
    "name": "ipython",
    "version": 3
   },
   "file_extension": ".py",
   "mimetype": "text/x-python",
   "name": "python",
   "nbconvert_exporter": "python",
   "pygments_lexer": "ipython3",
   "version": "3.11.8"
  }
 },
 "nbformat": 4,
 "nbformat_minor": 2
}
